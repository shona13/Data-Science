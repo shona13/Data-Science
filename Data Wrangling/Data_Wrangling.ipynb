{
  "nbformat": 4,
  "nbformat_minor": 0,
  "metadata": {
    "colab": {
      "provenance": []
    },
    "kernelspec": {
      "name": "python3",
      "display_name": "Python 3"
    },
    "language_info": {
      "name": "python"
    }
  },
  "cells": [
    {
      "cell_type": "markdown",
      "source": [
        "# Data Wrangling Process\n",
        "\n",
        "### Sonal Joshi\n",
        "\n",
        "#### [Dataset](https://www.kaggle.com/datasets/usdot/flight-delays?resource=download)"
      ],
      "metadata": {
        "id": "6ZVxS48Ar3YM"
      }
    },
    {
      "cell_type": "code",
      "source": [
        "# Importing the packages\n",
        "import pandas as pd\n",
        "import numpy as np"
      ],
      "metadata": {
        "id": "5MlMYrojZVJ3"
      },
      "execution_count": 3,
      "outputs": []
    },
    {
      "cell_type": "markdown",
      "source": [
        "> Loading the flights.csv data in 'path' variable and converting it into a pandas dataframe using pandas library."
      ],
      "metadata": {
        "id": "ePJCiQCfCpts"
      }
    },
    {
      "cell_type": "code",
      "source": [
        "# Loading the data as pandas dataframe\n",
        "path = \"/content/drive/MyDrive/Colab Notebooks/data/flights.csv\"\n",
        "\n",
        "# Reading the .csv file and converting it to pandas dataframe\n",
        "data = pd.read_csv(path)"
      ],
      "metadata": {
        "id": "F6Ob7XuH3-Dg",
        "colab": {
          "base_uri": "https://localhost:8080/"
        },
        "outputId": "bb1e8e8f-5fec-43ec-8eae-88d42b00a50c"
      },
      "execution_count": 4,
      "outputs": [
        {
          "output_type": "stream",
          "name": "stderr",
          "text": [
            "<ipython-input-4-e41f737e677f>:5: DtypeWarning: Columns (7,8) have mixed types. Specify dtype option on import or set low_memory=False.\n",
            "  data = pd.read_csv(path)\n"
          ]
        }
      ]
    },
    {
      "cell_type": "markdown",
      "source": [
        "## Data Exploration and Visualization"
      ],
      "metadata": {
        "id": "k06rF4Kq9fhl"
      }
    },
    {
      "cell_type": "markdown",
      "source": [
        "### a) Explain the data. Find the features in the dataset. Print their names and dimensions.\n"
      ],
      "metadata": {
        "id": "Jx0H5VS99ink"
      }
    },
    {
      "cell_type": "markdown",
      "source": [
        "> This dataset contains information about flights within the United States and includes data on flight delays, cancellations, and diversions for the year 2015.\n",
        "> The dataset contains several files, including information on flights, airports, and airlines. The flights file, which is the main file of the dataset, contains information about individual flights such as the origin and destination airports, scheduled and actual departure and arrival times, flight duration, and various other details.\n",
        ">\n",
        "> This data can be useful to analyze average delays at any particular airport, day and/or airline. Such kind of visualizations can be helpful for customers and airport authorities to improve the services for both staff and customers.\n",
        "> *.head()* prints the top 5 records and *.display.max_columns* will print all columns even if it doesn't fit the screen size. "
      ],
      "metadata": {
        "id": "fY8GqaMqDKMh"
      }
    },
    {
      "cell_type": "code",
      "source": [
        "# To display all the columns whenever .head() is used which can be used to pre-process data.\n",
        "pd.options.display.max_columns = None\n",
        "\n",
        "# Displays the top 5 rows of pandas dataframe\n",
        "data.head()"
      ],
      "metadata": {
        "id": "721vpJUPDYY2",
        "colab": {
          "base_uri": "https://localhost:8080/",
          "height": 270
        },
        "outputId": "3443740f-6896-4230-800e-f7f735cbdb6e"
      },
      "execution_count": 5,
      "outputs": [
        {
          "output_type": "execute_result",
          "data": {
            "text/plain": [
              "   YEAR  MONTH  DAY  DAY_OF_WEEK AIRLINE  FLIGHT_NUMBER TAIL_NUMBER  \\\n",
              "0  2015      1    1            4      AS             98      N407AS   \n",
              "1  2015      1    1            4      AA           2336      N3KUAA   \n",
              "2  2015      1    1            4      US            840      N171US   \n",
              "3  2015      1    1            4      AA            258      N3HYAA   \n",
              "4  2015      1    1            4      AS            135      N527AS   \n",
              "\n",
              "  ORIGIN_AIRPORT DESTINATION_AIRPORT  SCHEDULED_DEPARTURE  DEPARTURE_TIME  \\\n",
              "0            ANC                 SEA                    5          2354.0   \n",
              "1            LAX                 PBI                   10             2.0   \n",
              "2            SFO                 CLT                   20            18.0   \n",
              "3            LAX                 MIA                   20            15.0   \n",
              "4            SEA                 ANC                   25            24.0   \n",
              "\n",
              "   DEPARTURE_DELAY  TAXI_OUT  WHEELS_OFF  SCHEDULED_TIME  ELAPSED_TIME  \\\n",
              "0            -11.0      21.0        15.0           205.0         194.0   \n",
              "1             -8.0      12.0        14.0           280.0         279.0   \n",
              "2             -2.0      16.0        34.0           286.0         293.0   \n",
              "3             -5.0      15.0        30.0           285.0         281.0   \n",
              "4             -1.0      11.0        35.0           235.0         215.0   \n",
              "\n",
              "   AIR_TIME  DISTANCE  WHEELS_ON  TAXI_IN  SCHEDULED_ARRIVAL  ARRIVAL_TIME  \\\n",
              "0     169.0      1448      404.0      4.0                430         408.0   \n",
              "1     263.0      2330      737.0      4.0                750         741.0   \n",
              "2     266.0      2296      800.0     11.0                806         811.0   \n",
              "3     258.0      2342      748.0      8.0                805         756.0   \n",
              "4     199.0      1448      254.0      5.0                320         259.0   \n",
              "\n",
              "   ARRIVAL_DELAY  DIVERTED  CANCELLED CANCELLATION_REASON  AIR_SYSTEM_DELAY  \\\n",
              "0          -22.0         0          0                 NaN               NaN   \n",
              "1           -9.0         0          0                 NaN               NaN   \n",
              "2            5.0         0          0                 NaN               NaN   \n",
              "3           -9.0         0          0                 NaN               NaN   \n",
              "4          -21.0         0          0                 NaN               NaN   \n",
              "\n",
              "   SECURITY_DELAY  AIRLINE_DELAY  LATE_AIRCRAFT_DELAY  WEATHER_DELAY  \n",
              "0             NaN            NaN                  NaN            NaN  \n",
              "1             NaN            NaN                  NaN            NaN  \n",
              "2             NaN            NaN                  NaN            NaN  \n",
              "3             NaN            NaN                  NaN            NaN  \n",
              "4             NaN            NaN                  NaN            NaN  "
            ],
            "text/html": [
              "\n",
              "  <div id=\"df-6c8bf02a-bd74-4e22-8013-32415a9ed934\">\n",
              "    <div class=\"colab-df-container\">\n",
              "      <div>\n",
              "<style scoped>\n",
              "    .dataframe tbody tr th:only-of-type {\n",
              "        vertical-align: middle;\n",
              "    }\n",
              "\n",
              "    .dataframe tbody tr th {\n",
              "        vertical-align: top;\n",
              "    }\n",
              "\n",
              "    .dataframe thead th {\n",
              "        text-align: right;\n",
              "    }\n",
              "</style>\n",
              "<table border=\"1\" class=\"dataframe\">\n",
              "  <thead>\n",
              "    <tr style=\"text-align: right;\">\n",
              "      <th></th>\n",
              "      <th>YEAR</th>\n",
              "      <th>MONTH</th>\n",
              "      <th>DAY</th>\n",
              "      <th>DAY_OF_WEEK</th>\n",
              "      <th>AIRLINE</th>\n",
              "      <th>FLIGHT_NUMBER</th>\n",
              "      <th>TAIL_NUMBER</th>\n",
              "      <th>ORIGIN_AIRPORT</th>\n",
              "      <th>DESTINATION_AIRPORT</th>\n",
              "      <th>SCHEDULED_DEPARTURE</th>\n",
              "      <th>DEPARTURE_TIME</th>\n",
              "      <th>DEPARTURE_DELAY</th>\n",
              "      <th>TAXI_OUT</th>\n",
              "      <th>WHEELS_OFF</th>\n",
              "      <th>SCHEDULED_TIME</th>\n",
              "      <th>ELAPSED_TIME</th>\n",
              "      <th>AIR_TIME</th>\n",
              "      <th>DISTANCE</th>\n",
              "      <th>WHEELS_ON</th>\n",
              "      <th>TAXI_IN</th>\n",
              "      <th>SCHEDULED_ARRIVAL</th>\n",
              "      <th>ARRIVAL_TIME</th>\n",
              "      <th>ARRIVAL_DELAY</th>\n",
              "      <th>DIVERTED</th>\n",
              "      <th>CANCELLED</th>\n",
              "      <th>CANCELLATION_REASON</th>\n",
              "      <th>AIR_SYSTEM_DELAY</th>\n",
              "      <th>SECURITY_DELAY</th>\n",
              "      <th>AIRLINE_DELAY</th>\n",
              "      <th>LATE_AIRCRAFT_DELAY</th>\n",
              "      <th>WEATHER_DELAY</th>\n",
              "    </tr>\n",
              "  </thead>\n",
              "  <tbody>\n",
              "    <tr>\n",
              "      <th>0</th>\n",
              "      <td>2015</td>\n",
              "      <td>1</td>\n",
              "      <td>1</td>\n",
              "      <td>4</td>\n",
              "      <td>AS</td>\n",
              "      <td>98</td>\n",
              "      <td>N407AS</td>\n",
              "      <td>ANC</td>\n",
              "      <td>SEA</td>\n",
              "      <td>5</td>\n",
              "      <td>2354.0</td>\n",
              "      <td>-11.0</td>\n",
              "      <td>21.0</td>\n",
              "      <td>15.0</td>\n",
              "      <td>205.0</td>\n",
              "      <td>194.0</td>\n",
              "      <td>169.0</td>\n",
              "      <td>1448</td>\n",
              "      <td>404.0</td>\n",
              "      <td>4.0</td>\n",
              "      <td>430</td>\n",
              "      <td>408.0</td>\n",
              "      <td>-22.0</td>\n",
              "      <td>0</td>\n",
              "      <td>0</td>\n",
              "      <td>NaN</td>\n",
              "      <td>NaN</td>\n",
              "      <td>NaN</td>\n",
              "      <td>NaN</td>\n",
              "      <td>NaN</td>\n",
              "      <td>NaN</td>\n",
              "    </tr>\n",
              "    <tr>\n",
              "      <th>1</th>\n",
              "      <td>2015</td>\n",
              "      <td>1</td>\n",
              "      <td>1</td>\n",
              "      <td>4</td>\n",
              "      <td>AA</td>\n",
              "      <td>2336</td>\n",
              "      <td>N3KUAA</td>\n",
              "      <td>LAX</td>\n",
              "      <td>PBI</td>\n",
              "      <td>10</td>\n",
              "      <td>2.0</td>\n",
              "      <td>-8.0</td>\n",
              "      <td>12.0</td>\n",
              "      <td>14.0</td>\n",
              "      <td>280.0</td>\n",
              "      <td>279.0</td>\n",
              "      <td>263.0</td>\n",
              "      <td>2330</td>\n",
              "      <td>737.0</td>\n",
              "      <td>4.0</td>\n",
              "      <td>750</td>\n",
              "      <td>741.0</td>\n",
              "      <td>-9.0</td>\n",
              "      <td>0</td>\n",
              "      <td>0</td>\n",
              "      <td>NaN</td>\n",
              "      <td>NaN</td>\n",
              "      <td>NaN</td>\n",
              "      <td>NaN</td>\n",
              "      <td>NaN</td>\n",
              "      <td>NaN</td>\n",
              "    </tr>\n",
              "    <tr>\n",
              "      <th>2</th>\n",
              "      <td>2015</td>\n",
              "      <td>1</td>\n",
              "      <td>1</td>\n",
              "      <td>4</td>\n",
              "      <td>US</td>\n",
              "      <td>840</td>\n",
              "      <td>N171US</td>\n",
              "      <td>SFO</td>\n",
              "      <td>CLT</td>\n",
              "      <td>20</td>\n",
              "      <td>18.0</td>\n",
              "      <td>-2.0</td>\n",
              "      <td>16.0</td>\n",
              "      <td>34.0</td>\n",
              "      <td>286.0</td>\n",
              "      <td>293.0</td>\n",
              "      <td>266.0</td>\n",
              "      <td>2296</td>\n",
              "      <td>800.0</td>\n",
              "      <td>11.0</td>\n",
              "      <td>806</td>\n",
              "      <td>811.0</td>\n",
              "      <td>5.0</td>\n",
              "      <td>0</td>\n",
              "      <td>0</td>\n",
              "      <td>NaN</td>\n",
              "      <td>NaN</td>\n",
              "      <td>NaN</td>\n",
              "      <td>NaN</td>\n",
              "      <td>NaN</td>\n",
              "      <td>NaN</td>\n",
              "    </tr>\n",
              "    <tr>\n",
              "      <th>3</th>\n",
              "      <td>2015</td>\n",
              "      <td>1</td>\n",
              "      <td>1</td>\n",
              "      <td>4</td>\n",
              "      <td>AA</td>\n",
              "      <td>258</td>\n",
              "      <td>N3HYAA</td>\n",
              "      <td>LAX</td>\n",
              "      <td>MIA</td>\n",
              "      <td>20</td>\n",
              "      <td>15.0</td>\n",
              "      <td>-5.0</td>\n",
              "      <td>15.0</td>\n",
              "      <td>30.0</td>\n",
              "      <td>285.0</td>\n",
              "      <td>281.0</td>\n",
              "      <td>258.0</td>\n",
              "      <td>2342</td>\n",
              "      <td>748.0</td>\n",
              "      <td>8.0</td>\n",
              "      <td>805</td>\n",
              "      <td>756.0</td>\n",
              "      <td>-9.0</td>\n",
              "      <td>0</td>\n",
              "      <td>0</td>\n",
              "      <td>NaN</td>\n",
              "      <td>NaN</td>\n",
              "      <td>NaN</td>\n",
              "      <td>NaN</td>\n",
              "      <td>NaN</td>\n",
              "      <td>NaN</td>\n",
              "    </tr>\n",
              "    <tr>\n",
              "      <th>4</th>\n",
              "      <td>2015</td>\n",
              "      <td>1</td>\n",
              "      <td>1</td>\n",
              "      <td>4</td>\n",
              "      <td>AS</td>\n",
              "      <td>135</td>\n",
              "      <td>N527AS</td>\n",
              "      <td>SEA</td>\n",
              "      <td>ANC</td>\n",
              "      <td>25</td>\n",
              "      <td>24.0</td>\n",
              "      <td>-1.0</td>\n",
              "      <td>11.0</td>\n",
              "      <td>35.0</td>\n",
              "      <td>235.0</td>\n",
              "      <td>215.0</td>\n",
              "      <td>199.0</td>\n",
              "      <td>1448</td>\n",
              "      <td>254.0</td>\n",
              "      <td>5.0</td>\n",
              "      <td>320</td>\n",
              "      <td>259.0</td>\n",
              "      <td>-21.0</td>\n",
              "      <td>0</td>\n",
              "      <td>0</td>\n",
              "      <td>NaN</td>\n",
              "      <td>NaN</td>\n",
              "      <td>NaN</td>\n",
              "      <td>NaN</td>\n",
              "      <td>NaN</td>\n",
              "      <td>NaN</td>\n",
              "    </tr>\n",
              "  </tbody>\n",
              "</table>\n",
              "</div>\n",
              "      <button class=\"colab-df-convert\" onclick=\"convertToInteractive('df-6c8bf02a-bd74-4e22-8013-32415a9ed934')\"\n",
              "              title=\"Convert this dataframe to an interactive table.\"\n",
              "              style=\"display:none;\">\n",
              "        \n",
              "  <svg xmlns=\"http://www.w3.org/2000/svg\" height=\"24px\"viewBox=\"0 0 24 24\"\n",
              "       width=\"24px\">\n",
              "    <path d=\"M0 0h24v24H0V0z\" fill=\"none\"/>\n",
              "    <path d=\"M18.56 5.44l.94 2.06.94-2.06 2.06-.94-2.06-.94-.94-2.06-.94 2.06-2.06.94zm-11 1L8.5 8.5l.94-2.06 2.06-.94-2.06-.94L8.5 2.5l-.94 2.06-2.06.94zm10 10l.94 2.06.94-2.06 2.06-.94-2.06-.94-.94-2.06-.94 2.06-2.06.94z\"/><path d=\"M17.41 7.96l-1.37-1.37c-.4-.4-.92-.59-1.43-.59-.52 0-1.04.2-1.43.59L10.3 9.45l-7.72 7.72c-.78.78-.78 2.05 0 2.83L4 21.41c.39.39.9.59 1.41.59.51 0 1.02-.2 1.41-.59l7.78-7.78 2.81-2.81c.8-.78.8-2.07 0-2.86zM5.41 20L4 18.59l7.72-7.72 1.47 1.35L5.41 20z\"/>\n",
              "  </svg>\n",
              "      </button>\n",
              "      \n",
              "  <style>\n",
              "    .colab-df-container {\n",
              "      display:flex;\n",
              "      flex-wrap:wrap;\n",
              "      gap: 12px;\n",
              "    }\n",
              "\n",
              "    .colab-df-convert {\n",
              "      background-color: #E8F0FE;\n",
              "      border: none;\n",
              "      border-radius: 50%;\n",
              "      cursor: pointer;\n",
              "      display: none;\n",
              "      fill: #1967D2;\n",
              "      height: 32px;\n",
              "      padding: 0 0 0 0;\n",
              "      width: 32px;\n",
              "    }\n",
              "\n",
              "    .colab-df-convert:hover {\n",
              "      background-color: #E2EBFA;\n",
              "      box-shadow: 0px 1px 2px rgba(60, 64, 67, 0.3), 0px 1px 3px 1px rgba(60, 64, 67, 0.15);\n",
              "      fill: #174EA6;\n",
              "    }\n",
              "\n",
              "    [theme=dark] .colab-df-convert {\n",
              "      background-color: #3B4455;\n",
              "      fill: #D2E3FC;\n",
              "    }\n",
              "\n",
              "    [theme=dark] .colab-df-convert:hover {\n",
              "      background-color: #434B5C;\n",
              "      box-shadow: 0px 1px 3px 1px rgba(0, 0, 0, 0.15);\n",
              "      filter: drop-shadow(0px 1px 2px rgba(0, 0, 0, 0.3));\n",
              "      fill: #FFFFFF;\n",
              "    }\n",
              "  </style>\n",
              "\n",
              "      <script>\n",
              "        const buttonEl =\n",
              "          document.querySelector('#df-6c8bf02a-bd74-4e22-8013-32415a9ed934 button.colab-df-convert');\n",
              "        buttonEl.style.display =\n",
              "          google.colab.kernel.accessAllowed ? 'block' : 'none';\n",
              "\n",
              "        async function convertToInteractive(key) {\n",
              "          const element = document.querySelector('#df-6c8bf02a-bd74-4e22-8013-32415a9ed934');\n",
              "          const dataTable =\n",
              "            await google.colab.kernel.invokeFunction('convertToInteractive',\n",
              "                                                     [key], {});\n",
              "          if (!dataTable) return;\n",
              "\n",
              "          const docLinkHtml = 'Like what you see? Visit the ' +\n",
              "            '<a target=\"_blank\" href=https://colab.research.google.com/notebooks/data_table.ipynb>data table notebook</a>'\n",
              "            + ' to learn more about interactive tables.';\n",
              "          element.innerHTML = '';\n",
              "          dataTable['output_type'] = 'display_data';\n",
              "          await google.colab.output.renderOutput(dataTable, element);\n",
              "          const docLink = document.createElement('div');\n",
              "          docLink.innerHTML = docLinkHtml;\n",
              "          element.appendChild(docLink);\n",
              "        }\n",
              "      </script>\n",
              "    </div>\n",
              "  </div>\n",
              "  "
            ]
          },
          "metadata": {},
          "execution_count": 5
        }
      ]
    },
    {
      "cell_type": "markdown",
      "source": [
        "> *.columns* returns all the column names (features) in the dataframe."
      ],
      "metadata": {
        "id": "IN1x3ZXkFaKh"
      }
    },
    {
      "cell_type": "code",
      "source": [
        "# Returns column names in the pandas dataframe\n",
        "data.columns"
      ],
      "metadata": {
        "id": "y1LGCXT9FZmB",
        "colab": {
          "base_uri": "https://localhost:8080/"
        },
        "outputId": "aea509d0-132c-4aee-b9b0-96705759344a"
      },
      "execution_count": 6,
      "outputs": [
        {
          "output_type": "execute_result",
          "data": {
            "text/plain": [
              "Index(['YEAR', 'MONTH', 'DAY', 'DAY_OF_WEEK', 'AIRLINE', 'FLIGHT_NUMBER',\n",
              "       'TAIL_NUMBER', 'ORIGIN_AIRPORT', 'DESTINATION_AIRPORT',\n",
              "       'SCHEDULED_DEPARTURE', 'DEPARTURE_TIME', 'DEPARTURE_DELAY', 'TAXI_OUT',\n",
              "       'WHEELS_OFF', 'SCHEDULED_TIME', 'ELAPSED_TIME', 'AIR_TIME', 'DISTANCE',\n",
              "       'WHEELS_ON', 'TAXI_IN', 'SCHEDULED_ARRIVAL', 'ARRIVAL_TIME',\n",
              "       'ARRIVAL_DELAY', 'DIVERTED', 'CANCELLED', 'CANCELLATION_REASON',\n",
              "       'AIR_SYSTEM_DELAY', 'SECURITY_DELAY', 'AIRLINE_DELAY',\n",
              "       'LATE_AIRCRAFT_DELAY', 'WEATHER_DELAY'],\n",
              "      dtype='object')"
            ]
          },
          "metadata": {},
          "execution_count": 6
        }
      ]
    },
    {
      "cell_type": "markdown",
      "source": [
        "> *.shape* returns the number of rows and columns (dimensions) for the dataframe."
      ],
      "metadata": {
        "id": "lOWicf67FNaB"
      }
    },
    {
      "cell_type": "code",
      "source": [
        "# Returns rows and columns as a tuple\n",
        "data.shape"
      ],
      "metadata": {
        "id": "0yVbe_Cu9n1E",
        "colab": {
          "base_uri": "https://localhost:8080/"
        },
        "outputId": "adf049d1-7a9a-4dea-abd8-da2006d49722"
      },
      "execution_count": 7,
      "outputs": [
        {
          "output_type": "execute_result",
          "data": {
            "text/plain": [
              "(5819079, 31)"
            ]
          },
          "metadata": {},
          "execution_count": 7
        }
      ]
    },
    {
      "cell_type": "markdown",
      "source": [
        "### b) Plot the data distribution of a few features. Discuss about their mean and variance."
      ],
      "metadata": {
        "id": "Lggf57Up9mi3"
      }
    },
    {
      "cell_type": "code",
      "source": [
        "# Importing libraries to plot the features\n",
        "import matplotlib.pyplot as plt\n",
        "import seaborn as sns"
      ],
      "metadata": {
        "id": "TXajmNFG9sQf"
      },
      "execution_count": 8,
      "outputs": []
    },
    {
      "cell_type": "markdown",
      "source": [
        "> Using pivot table method of pandas, the table is indexed by the *'DAY_OF_WEEK'* column, the *'AIRLINE'* column is used for columns and *'DEPARTURE_DELAY'* column is used for values to create the pivot. mean is used to plot the heatmap\n",
        ">\n",
        "> The cmap attribute is set to 'coolwarm' to use a color map that ranges from blue to red, and the annot argument is set to True to display the average delay times on each cell of the heatmap. The 'fmt' argument is set to *\".1f\" *to format the average delay time values to one decimal place.\n",
        ">\n",
        "> The visualization is displayed using the pyplot.show method.\n"
      ],
      "metadata": {
        "id": "5uzFmCmCQTSO"
      }
    },
    {
      "cell_type": "code",
      "source": [
        "# Create a figure with a larger size\n",
        "fig, axs = plt.subplots(figsize=(10, 8))\n",
        "\n",
        "# Create a pivot table of DAY_OF_WEEK vs AIRLINE\n",
        "# Plot DAY_OF_WEEK vs AIRLINE as a heatmap\n",
        "sns.heatmap(data.pivot_table(index='DAY_OF_WEEK', columns='AIRLINE', values='DEPARTURE_DELAY', aggfunc='mean'),\n",
        "            cmap='coolwarm', annot=True, fmt=\".1f\", ax=axs)\n",
        "\n",
        "# Set the title, x-axis label, and y-axis label\n",
        "plt.title(\"Average Departure Delay (min) by Day of Week and Airline\")\n",
        "plt.xlabel(\"Airline\")\n",
        "plt.ylabel(\"Day of Week\")\n",
        "\n",
        "# Displays the heatmap\n",
        "plt.show()"
      ],
      "metadata": {
        "id": "Htv8OEbP9sOJ",
        "colab": {
          "base_uri": "https://localhost:8080/",
          "height": 718
        },
        "outputId": "5e61ddb1-ab65-4742-8378-544004cdd93d"
      },
      "execution_count": 9,
      "outputs": [
        {
          "output_type": "display_data",
          "data": {
            "text/plain": [
              "<Figure size 1000x800 with 2 Axes>"
            ],
            "image/png": "[encoded data removed]"
          },
          "metadata": {}
        }
      ]
    },
    {
      "cell_type": "markdown",
      "source": [
        "> The x-axis shows the airline names and the y-axis shows the days of the week. The color of each square in the heatmap indicates the average departure delay time for the corresponding airline and day of the week.\n",
        ">\n",
        "> The heatmap is divided into two color scales, red and blue. The red color indicates a higher average departure delay, while the blue color indicates a lower average departure delay. The intensity of the color indicates the magnitude of the delay time.\n",
        ">\n",
        "> This plot is helpful in identifying which airlines have the highest average departure delay times for specific days of the week. It can be used to determine specific days of the week where certain airlines consistently have delays, and can help in identifying potential areas for improvement in airline operations."
      ],
      "metadata": {
        "id": "dr6y-YOFtGy6"
      }
    },
    {
      "cell_type": "markdown",
      "source": [
        "> Now we will group the data by airline and then the variances of departure delay and arrival delay for each airline is claculated. \n"
      ],
      "metadata": {
        "id": "vFD-2MSESkwV"
      }
    },
    {
      "cell_type": "code",
      "source": [
        "# Calculate the variances of DEPARTURE_DELAY and ARRIVAL_DELAY for each airline\n",
        "variances = data.groupby('AIRLINE')[['DEPARTURE_DELAY', 'ARRIVAL_DELAY']].var()\n",
        "\n",
        "# Plot the variances using a bar plot\n",
        "ax = variances.plot(kind='bar', figsize=(12, 6), color=['red', 'indigo'], alpha=0.7)\n",
        "\n",
        "# Set the plot title and labels\n",
        "ax.set_title('Variance of Departure and Arrival Delay by Airline')\n",
        "ax.set_xlabel('Airline')\n",
        "ax.set_ylabel('Variance')\n",
        "\n",
        "# Show the plot\n",
        "plt.show()"
      ],
      "metadata": {
        "id": "MBG45x8T9sAO",
        "colab": {
          "base_uri": "https://localhost:8080/",
          "height": 574
        },
        "outputId": "13b19063-7e15-4057-a505-0a6078cea030"
      },
      "execution_count": 10,
      "outputs": [
        {
          "output_type": "display_data",
          "data": {
            "text/plain": [
              "<Figure size 1200x600 with 1 Axes>"
            ],
            "image/png": "[encoded data removed]"
          },
          "metadata": {}
        }
      ]
    },
    {
      "cell_type": "markdown",
      "source": [
        "> The x-axis represents the different airlines, while the y-axis shows the variance of the delay times in minutes squared.\n",
        "> \n",
        "> From the plot, we can see that the airlines with the highest variances in both departure and arrival delay times are \"*Frontier Airlines*\", \"*Spirit Airlines*\"  and \"*JetBlue Airways*\". Conversely, \"*Alaska Airlines*\" and \"*Hawaiian Airlines*\" have the lowest variances for both departure and arrival delays.\n",
        ">\n",
        "> The plot is useful for identifying airlines that have consistently high or low variances in their delay times, which can help inform decisions around which airlines to choose for future travel."
      ],
      "metadata": {
        "id": "X6TZb2PEw_fx"
      }
    },
    {
      "cell_type": "markdown",
      "source": [
        "## Data Pre-processing"
      ],
      "metadata": {
        "id": "I_bdu0yF9s87"
      }
    },
    {
      "cell_type": "markdown",
      "source": [
        "### a) Data cleaning: Find missing data. Remove them and justify your choice.\n"
      ],
      "metadata": {
        "id": "qgDODdFT9vHe"
      }
    },
    {
      "cell_type": "markdown",
      "source": [
        "> *'isnull().sum()'* calculates the null data in the dataframe which will be helpful in cleaning data as it allows you to identify which columns have missing values and how many missing values are there in each column. \n",
        "\n",
        "By knowing the number of missing values in each column, we can make informed decisions on how to handle the missing data, such as filling in the missing data or removing rows with missing data. It can also give us an idea of how much missing data there is overall in the dataset and how much data needs to be imputed or removed.\n",
        "\n",
        "\n",
        "\n",
        "\n"
      ],
      "metadata": {
        "id": "zhZ2r529xCjp"
      }
    },
    {
      "cell_type": "code",
      "source": [
        "# Displays total null values for every column\n",
        "data.isnull().sum()"
      ],
      "metadata": {
        "id": "bqXAXeF0on-H",
        "colab": {
          "base_uri": "https://localhost:8080/"
        },
        "outputId": "03f0fca9-a367-42fc-efd6-975d0f1b9ecd"
      },
      "execution_count": 11,
      "outputs": [
        {
          "output_type": "execute_result",
          "data": {
            "text/plain": [
              "YEAR                         0\n",
              "MONTH                        0\n",
              "DAY                          0\n",
              "DAY_OF_WEEK                  0\n",
              "AIRLINE                      0\n",
              "FLIGHT_NUMBER                0\n",
              "TAIL_NUMBER              14721\n",
              "ORIGIN_AIRPORT               0\n",
              "DESTINATION_AIRPORT          0\n",
              "SCHEDULED_DEPARTURE          0\n",
              "DEPARTURE_TIME           86153\n",
              "DEPARTURE_DELAY          86153\n",
              "TAXI_OUT                 89047\n",
              "WHEELS_OFF               89047\n",
              "SCHEDULED_TIME               6\n",
              "ELAPSED_TIME            105071\n",
              "AIR_TIME                105071\n",
              "DISTANCE                     0\n",
              "WHEELS_ON                92513\n",
              "TAXI_IN                  92513\n",
              "SCHEDULED_ARRIVAL            0\n",
              "ARRIVAL_TIME             92513\n",
              "ARRIVAL_DELAY           105071\n",
              "DIVERTED                     0\n",
              "CANCELLED                    0\n",
              "CANCELLATION_REASON    5729195\n",
              "AIR_SYSTEM_DELAY       4755640\n",
              "SECURITY_DELAY         4755640\n",
              "AIRLINE_DELAY          4755640\n",
              "LATE_AIRCRAFT_DELAY    4755640\n",
              "WEATHER_DELAY          4755640\n",
              "dtype: int64"
            ]
          },
          "metadata": {},
          "execution_count": 11
        }
      ]
    },
    {
      "cell_type": "markdown",
      "source": [
        "> As per the output, it can be seen that *'CANCELLATION_REASON', 'SECURITY_DELAY,'AIR_SYSTEM_DELAY', 'AIRLINE_DELAY', 'LATE_AIRCRAFT_DELAY', 'WEATHER_DELAY'* columns have the most null data. So, these columns and the *'YEAR, 'DAY' and 'DAY_OF_WEEK'* can be dropped. \n",
        "> Standardization and normalization will give invalid or useless information on Date related data. This can happen if date related columns are int or float datatype instead of datetime datatype."
      ],
      "metadata": {
        "id": "-IopFDUu0JO2"
      }
    },
    {
      "cell_type": "code",
      "source": [
        "# Dropping the columns for cleaner data\n",
        "clean_data = data.drop(columns=['YEAR','DAY', 'DAY_OF_WEEK','CANCELLATION_REASON', 'AIR_SYSTEM_DELAY', \\\n",
        "                                'SECURITY_DELAY', 'AIRLINE_DELAY','LATE_AIRCRAFT_DELAY','WEATHER_DELAY'])"
      ],
      "metadata": {
        "id": "syi5e0MhTr36"
      },
      "execution_count": 12,
      "outputs": []
    },
    {
      "cell_type": "markdown",
      "source": [
        "> Now we will drop any null rows. This will clean the data by removing unrequired any rows which are empty. This will reduce the size of dataframe which means less memory would be required to perform any operations."
      ],
      "metadata": {
        "id": "0EOu_NyV1uCR"
      }
    },
    {
      "cell_type": "code",
      "source": [
        "# Drop any null rows (if any)\n",
        "clean_data.dropna(axis=0,inplace=True)"
      ],
      "metadata": {
        "id": "VAtJUneoNGCY"
      },
      "execution_count": 13,
      "outputs": []
    },
    {
      "cell_type": "markdown",
      "source": [
        "### b) Data Cleaning: Identify noise in the data. How did you identify the noise? Justify and demonstrate the technique you would use to reduce noise.\n"
      ],
      "metadata": {
        "id": "QpzsH4Nc9xIT"
      }
    },
    {
      "cell_type": "markdown",
      "source": [
        "> Binning technique is used to identify noise in the data. Binning is the process of dividing the range of continuous numeric variables into a set of smaller intervals or bins, and then assigning a categorical label or a numeric value to each bin. \n",
        "> In this case, the *DEPARTURE_DELAY* column is considered for identify noise is divided into 10 bins using the minimum and maximum values in the data, and the bin number is assigned to each row in a new column called bin_number.\n",
        ">\n",
        "> By examining the distribution of data points across the bins, it is possible to identify if there are any outliers or unusual values that can be considered as noise. For example, if a bin contains a very small number of data points compared to other bins, or if there are large differences in the number of data points between adjacent bins, it can indicate the presence of noise or outliers.\n"
      ],
      "metadata": {
        "id": "ya5XehOX455Q"
      }
    },
    {
      "cell_type": "code",
      "source": [
        "# Dropping any null values in the column 'Departure_Delay'\n",
        "clean_data = clean_data.dropna(subset=['DEPARTURE_DELAY'])"
      ],
      "metadata": {
        "id": "_y9eKkoQx1QY"
      },
      "execution_count": 14,
      "outputs": []
    },
    {
      "cell_type": "code",
      "source": [
        "# Calculate the minimum and maximum values in the data\n",
        "data_min = clean_data['DEPARTURE_DELAY'].min()\n",
        "data_max = clean_data['DEPARTURE_DELAY'].max()\n",
        "\n",
        "# Set the number of bins\n",
        "num_bins = 10\n",
        "\n",
        "# Calculate the bin size\n",
        "bin_size = (data_max - data_min) / num_bins\n",
        "\n",
        "# Create the bin edges\n",
        "bin_edges = np.arange(data_min, data_max + bin_size, bin_size)\n",
        "\n",
        "# Create a new column to store the bin numbers\n",
        "clean_data['bin_number'] = pd.cut(clean_data['DEPARTURE_DELAY'], bin_edges, labels=False)\n",
        "\n",
        "# Checks for any null values in the column\n",
        "clean_data['DEPARTURE_DELAY'].isnull().sum()"
      ],
      "metadata": {
        "id": "jt0tQ_LRJ0UT",
        "colab": {
          "base_uri": "https://localhost:8080/"
        },
        "outputId": "be12ab8d-f833-4bf6-9e7d-24ae8f27814d"
      },
      "execution_count": 15,
      "outputs": [
        {
          "output_type": "execute_result",
          "data": {
            "text/plain": [
              "0"
            ]
          },
          "metadata": {},
          "execution_count": 15
        }
      ]
    },
    {
      "cell_type": "markdown",
      "source": [
        "> We will check the bin number for any null values in the *'DEPARTURE_DELAY'* column using the *'.unique()'* method. This will help to determine if there are any rows with nan or null values for bin_number. "
      ],
      "metadata": {
        "id": "ClVKZgdI9ehz"
      }
    },
    {
      "cell_type": "code",
      "source": [
        "# Returns all the unique values for the column\n",
        "clean_data['bin_number'].unique()"
      ],
      "metadata": {
        "colab": {
          "base_uri": "https://localhost:8080/"
        },
        "id": "-FjX7RqmHdtW",
        "outputId": "606b5a93-de05-4190-c0c0-f1d132ca7509"
      },
      "execution_count": 16,
      "outputs": [
        {
          "output_type": "execute_result",
          "data": {
            "text/plain": [
              "array([ 0.,  1.,  2.,  6.,  4.,  3.,  7.,  5.,  8.,  9., nan])"
            ]
          },
          "metadata": {},
          "execution_count": 16
        }
      ]
    },
    {
      "cell_type": "markdown",
      "source": [
        "> Rows with 'NaN' values are outliers. So, we can fill the missing data with median of the column.\n",
        "> Then we can calculate the mean and standard deviation for each bin of the column *'DEPARTURE_DELAY'*.\n",
        ">\n",
        "> We will calculate the noise for each bin which helps in identifying the range of values that are considered as outliers or noise. In this case, the noise threshold is calculated as the mean plus two times the standard deviation for each bin. This means that any values outside this range can be considered as noise or outliers and can be removed from the dataset. The value of two times the standard deviation is a commonly used threshold for identifying outliers, as it corresponds to approximately 95% of the data in a normal distribution.\n"
      ],
      "metadata": {
        "id": "RLfHtHxD9bSg"
      }
    },
    {
      "cell_type": "code",
      "source": [
        "# Replace NaN values with median of the column\n",
        "clean_data['bin_number'].fillna(clean_data['bin_number'].median(), inplace=True)\n",
        "\n",
        "# Calculate the mean delay for each bin\n",
        "bin_means = clean_data.groupby('bin_number')['DEPARTURE_DELAY'].mean()\n",
        "\n",
        "# Calculate the standard deviation for each bin\n",
        "bin_stds = clean_data.groupby('bin_number')['DEPARTURE_DELAY'].std()\n",
        "\n",
        "# Calculate the noise for each bin\n",
        "bin_noise = bin_means + 2 * bin_stds\n",
        "\n",
        "# Print the noise for each bin\n",
        "print(bin_noise)"
      ],
      "metadata": {
        "id": "V5LIRnj-yPMT",
        "colab": {
          "base_uri": "https://localhost:8080/"
        },
        "outputId": "ddaf7b81-dad8-4751-c488-e6a8f761fd3e"
      },
      "execution_count": 17,
      "outputs": [
        {
          "output_type": "stream",
          "name": "stdout",
          "text": [
            "bin_number\n",
            "0.0      47.330126\n",
            "1.0     279.599299\n",
            "2.0     511.413813\n",
            "3.0     742.574236\n",
            "4.0     954.820150\n",
            "5.0    1158.404991\n",
            "6.0    1360.153974\n",
            "7.0    1588.950684\n",
            "8.0    1677.491903\n",
            "9.0    2088.563492\n",
            "Name: DEPARTURE_DELAY, dtype: float64\n"
          ]
        }
      ]
    },
    {
      "cell_type": "markdown",
      "source": [
        "> Then we will create a new column called *'noise_flag'*, which flags any departure delays that exceed the noise threshold for their respective bins. \n",
        ">\n",
        "> This technique is useful for identifying and removing noisy data because it allows us to identify the expected range of values for each bin, based on the mean and standard deviation of the data within that bin. Any data points that fall outside of this expected range can be considered as outliers or noisy data, and are filtered out of the dataset.\n",
        ">\n",
        "> So, the noisy data is filtered out the by selecting only the rows where the *'noise_flag'* column is False. \n"
      ],
      "metadata": {
        "id": "uD6s9F0vcoZ1"
      }
    },
    {
      "cell_type": "code",
      "source": [
        "# Create a new column to flag delays that exceed the noise threshold\n",
        "clean_data['noise_flag'] = clean_data['DEPARTURE_DELAY'] > bin_noise[clean_data['bin_number']].values\n",
        "\n",
        "# Filter out the outliers\n",
        "clean_data = clean_data[~clean_data['noise_flag']]"
      ],
      "metadata": {
        "id": "dj5xiS3NcD8D"
      },
      "execution_count": 18,
      "outputs": []
    },
    {
      "cell_type": "markdown",
      "source": [
        "### c) Data transformations: Perform standardizations and normalization. Justify your chosen normalization method.\n"
      ],
      "metadata": {
        "id": "tlvKhyoG918s"
      }
    },
    {
      "cell_type": "markdown",
      "source": [
        "> Standardization scales the variables so that they have zero mean and unit variance. This is done by subtracting the mean of each variable from the data and then dividing by its standard deviation. This results in a dataset where each variable has a mean of zero and a standard deviation of one. Standardization is useful when the variables have different scales and units, and we want to ensure that they are all on the same scale.\n",
        "\n",
        "> Normalization scales the variables so that they have values between 0 and 1. This is done by subtracting the minimum value of each variable from the data and then dividing by the range of the variable (i.e., the difference between the maximum and minimum values). This results in a dataset where each variable has a minimum value of 0 and a maximum value of 1. Normalization is useful when the variables have similar scales and we want to ensure that they are all within the same range."
      ],
      "metadata": {
        "id": "b0zatVQapgbN"
      }
    },
    {
      "cell_type": "code",
      "source": [
        "# Importing the required packages from the library\n",
        "from sklearn.preprocessing import StandardScaler, MinMaxScaler"
      ],
      "metadata": {
        "id": "35o8PlAaAXac"
      },
      "execution_count": 19,
      "outputs": []
    },
    {
      "cell_type": "markdown",
      "source": [
        "\n",
        "> *StandardScaler()* is robust to outliers and is less sensitive to the range of values, which makes it a good choice for datasets that may have outliers or extreme values. It is also considered one of the best methods for standardization and is widely used in data preprocessing for machine learning.\n"
      ],
      "metadata": {
        "id": "yqcN1P0LjJUn"
      }
    },
    {
      "cell_type": "code",
      "source": [
        "# Get the numerical columns to perform standardization and normalization\n",
        "num_cols = clean_data.select_dtypes(include=np.number).columns.tolist()\n",
        "\n",
        "# Standardize the numerical columns\n",
        "scaler = StandardScaler()\n",
        "std_data = pd.DataFrame(scaler.fit_transform(clean_data[num_cols]), columns=num_cols)"
      ],
      "metadata": {
        "id": "eZeuTXobppov"
      },
      "execution_count": 20,
      "outputs": []
    },
    {
      "cell_type": "code",
      "source": [
        "# Prints the top 5 rows of standardized data\n",
        "std_data.head()"
      ],
      "metadata": {
        "colab": {
          "base_uri": "https://localhost:8080/",
          "height": 270
        },
        "id": "Z1L8bHmYhOCQ",
        "outputId": "15b49e97-2d30-43a3-b5e3-f7605e8267f6"
      },
      "execution_count": 21,
      "outputs": [
        {
          "output_type": "execute_result",
          "data": {
            "text/plain": [
              "      MONTH  FLIGHT_NUMBER  SCHEDULED_DEPARTURE  DEPARTURE_TIME  \\\n",
              "0 -1.637415      -1.177353            -2.715204        2.102797   \n",
              "1 -1.637415       0.099744            -2.704860       -2.672540   \n",
              "2 -1.637415      -0.753937            -2.684173       -2.640055   \n",
              "3 -1.637415      -1.086050            -2.684173       -2.646146   \n",
              "4 -1.637415      -1.156239            -2.673829       -2.627873   \n",
              "\n",
              "   DEPARTURE_DELAY  TAXI_OUT  WHEELS_OFF  SCHEDULED_TIME  ELAPSED_TIME  \\\n",
              "0        -0.500936  0.579075   -2.685573        0.838314      0.769217   \n",
              "1        -0.407440 -0.458613   -2.687598        1.833086      1.913407   \n",
              "2        -0.220447  0.002582   -2.647088        1.912668      2.101862   \n",
              "3        -0.313943 -0.112717   -2.655190        1.899404      1.940330   \n",
              "4        -0.189282 -0.573911   -2.645062        1.236223      1.051899   \n",
              "\n",
              "   AIR_TIME  DISTANCE  WHEELS_ON   TAXI_IN  SCHEDULED_ARRIVAL  ARRIVAL_TIME  \\\n",
              "0  0.767844  1.023794  -2.069463 -0.615830          -2.087404     -2.058629   \n",
              "1  2.067376  2.470911  -1.419329 -0.615830          -1.453253     -1.413022   \n",
              "2  2.108851  2.415126  -1.296330  0.644792          -1.342276     -1.277309   \n",
              "3  1.998252  2.490599  -1.397853  0.104526          -1.344258     -1.383941   \n",
              "4  1.182588  1.023794  -2.362317 -0.435741          -2.305394     -2.347504   \n",
              "\n",
              "   ARRIVAL_DELAY  DIVERTED  CANCELLED  bin_number  \n",
              "0      -0.640004       0.0        0.0   -0.127317  \n",
              "1      -0.264104       0.0        0.0   -0.127317  \n",
              "2       0.140712       0.0        0.0   -0.127317  \n",
              "3      -0.264104       0.0        0.0   -0.127317  \n",
              "4      -0.611088       0.0        0.0   -0.127317  "
            ],
            "text/html": [
              "\n",
              "  <div id=\"df-39121d31-1acd-479a-adfb-2a6e9ccafc91\">\n",
              "    <div class=\"colab-df-container\">\n",
              "      <div>\n",
              "<style scoped>\n",
              "    .dataframe tbody tr th:only-of-type {\n",
              "        vertical-align: middle;\n",
              "    }\n",
              "\n",
              "    .dataframe tbody tr th {\n",
              "        vertical-align: top;\n",
              "    }\n",
              "\n",
              "    .dataframe thead th {\n",
              "        text-align: right;\n",
              "    }\n",
              "</style>\n",
              "<table border=\"1\" class=\"dataframe\">\n",
              "  <thead>\n",
              "    <tr style=\"text-align: right;\">\n",
              "      <th></th>\n",
              "      <th>MONTH</th>\n",
              "      <th>FLIGHT_NUMBER</th>\n",
              "      <th>SCHEDULED_DEPARTURE</th>\n",
              "      <th>DEPARTURE_TIME</th>\n",
              "      <th>DEPARTURE_DELAY</th>\n",
              "      <th>TAXI_OUT</th>\n",
              "      <th>WHEELS_OFF</th>\n",
              "      <th>SCHEDULED_TIME</th>\n",
              "      <th>ELAPSED_TIME</th>\n",
              "      <th>AIR_TIME</th>\n",
              "      <th>DISTANCE</th>\n",
              "      <th>WHEELS_ON</th>\n",
              "      <th>TAXI_IN</th>\n",
              "      <th>SCHEDULED_ARRIVAL</th>\n",
              "      <th>ARRIVAL_TIME</th>\n",
              "      <th>ARRIVAL_DELAY</th>\n",
              "      <th>DIVERTED</th>\n",
              "      <th>CANCELLED</th>\n",
              "      <th>bin_number</th>\n",
              "    </tr>\n",
              "  </thead>\n",
              "  <tbody>\n",
              "    <tr>\n",
              "      <th>0</th>\n",
              "      <td>-1.637415</td>\n",
              "      <td>-1.177353</td>\n",
              "      <td>-2.715204</td>\n",
              "      <td>2.102797</td>\n",
              "      <td>-0.500936</td>\n",
              "      <td>0.579075</td>\n",
              "      <td>-2.685573</td>\n",
              "      <td>0.838314</td>\n",
              "      <td>0.769217</td>\n",
              "      <td>0.767844</td>\n",
              "      <td>1.023794</td>\n",
              "      <td>-2.069463</td>\n",
              "      <td>-0.615830</td>\n",
              "      <td>-2.087404</td>\n",
              "      <td>-2.058629</td>\n",
              "      <td>-0.640004</td>\n",
              "      <td>0.0</td>\n",
              "      <td>0.0</td>\n",
              "      <td>-0.127317</td>\n",
              "    </tr>\n",
              "    <tr>\n",
              "      <th>1</th>\n",
              "      <td>-1.637415</td>\n",
              "      <td>0.099744</td>\n",
              "      <td>-2.704860</td>\n",
              "      <td>-2.672540</td>\n",
              "      <td>-0.407440</td>\n",
              "      <td>-0.458613</td>\n",
              "      <td>-2.687598</td>\n",
              "      <td>1.833086</td>\n",
              "      <td>1.913407</td>\n",
              "      <td>2.067376</td>\n",
              "      <td>2.470911</td>\n",
              "      <td>-1.419329</td>\n",
              "      <td>-0.615830</td>\n",
              "      <td>-1.453253</td>\n",
              "      <td>-1.413022</td>\n",
              "      <td>-0.264104</td>\n",
              "      <td>0.0</td>\n",
              "      <td>0.0</td>\n",
              "      <td>-0.127317</td>\n",
              "    </tr>\n",
              "    <tr>\n",
              "      <th>2</th>\n",
              "      <td>-1.637415</td>\n",
              "      <td>-0.753937</td>\n",
              "      <td>-2.684173</td>\n",
              "      <td>-2.640055</td>\n",
              "      <td>-0.220447</td>\n",
              "      <td>0.002582</td>\n",
              "      <td>-2.647088</td>\n",
              "      <td>1.912668</td>\n",
              "      <td>2.101862</td>\n",
              "      <td>2.108851</td>\n",
              "      <td>2.415126</td>\n",
              "      <td>-1.296330</td>\n",
              "      <td>0.644792</td>\n",
              "      <td>-1.342276</td>\n",
              "      <td>-1.277309</td>\n",
              "      <td>0.140712</td>\n",
              "      <td>0.0</td>\n",
              "      <td>0.0</td>\n",
              "      <td>-0.127317</td>\n",
              "    </tr>\n",
              "    <tr>\n",
              "      <th>3</th>\n",
              "      <td>-1.637415</td>\n",
              "      <td>-1.086050</td>\n",
              "      <td>-2.684173</td>\n",
              "      <td>-2.646146</td>\n",
              "      <td>-0.313943</td>\n",
              "      <td>-0.112717</td>\n",
              "      <td>-2.655190</td>\n",
              "      <td>1.899404</td>\n",
              "      <td>1.940330</td>\n",
              "      <td>1.998252</td>\n",
              "      <td>2.490599</td>\n",
              "      <td>-1.397853</td>\n",
              "      <td>0.104526</td>\n",
              "      <td>-1.344258</td>\n",
              "      <td>-1.383941</td>\n",
              "      <td>-0.264104</td>\n",
              "      <td>0.0</td>\n",
              "      <td>0.0</td>\n",
              "      <td>-0.127317</td>\n",
              "    </tr>\n",
              "    <tr>\n",
              "      <th>4</th>\n",
              "      <td>-1.637415</td>\n",
              "      <td>-1.156239</td>\n",
              "      <td>-2.673829</td>\n",
              "      <td>-2.627873</td>\n",
              "      <td>-0.189282</td>\n",
              "      <td>-0.573911</td>\n",
              "      <td>-2.645062</td>\n",
              "      <td>1.236223</td>\n",
              "      <td>1.051899</td>\n",
              "      <td>1.182588</td>\n",
              "      <td>1.023794</td>\n",
              "      <td>-2.362317</td>\n",
              "      <td>-0.435741</td>\n",
              "      <td>-2.305394</td>\n",
              "      <td>-2.347504</td>\n",
              "      <td>-0.611088</td>\n",
              "      <td>0.0</td>\n",
              "      <td>0.0</td>\n",
              "      <td>-0.127317</td>\n",
              "    </tr>\n",
              "  </tbody>\n",
              "</table>\n",
              "</div>\n",
              "      <button class=\"colab-df-convert\" onclick=\"convertToInteractive('df-39121d31-1acd-479a-adfb-2a6e9ccafc91')\"\n",
              "              title=\"Convert this dataframe to an interactive table.\"\n",
              "              style=\"display:none;\">\n",
              "        \n",
              "  <svg xmlns=\"http://www.w3.org/2000/svg\" height=\"24px\"viewBox=\"0 0 24 24\"\n",
              "       width=\"24px\">\n",
              "    <path d=\"M0 0h24v24H0V0z\" fill=\"none\"/>\n",
              "    <path d=\"M18.56 5.44l.94 2.06.94-2.06 2.06-.94-2.06-.94-.94-2.06-.94 2.06-2.06.94zm-11 1L8.5 8.5l.94-2.06 2.06-.94-2.06-.94L8.5 2.5l-.94 2.06-2.06.94zm10 10l.94 2.06.94-2.06 2.06-.94-2.06-.94-.94-2.06-.94 2.06-2.06.94z\"/><path d=\"M17.41 7.96l-1.37-1.37c-.4-.4-.92-.59-1.43-.59-.52 0-1.04.2-1.43.59L10.3 9.45l-7.72 7.72c-.78.78-.78 2.05 0 2.83L4 21.41c.39.39.9.59 1.41.59.51 0 1.02-.2 1.41-.59l7.78-7.78 2.81-2.81c.8-.78.8-2.07 0-2.86zM5.41 20L4 18.59l7.72-7.72 1.47 1.35L5.41 20z\"/>\n",
              "  </svg>\n",
              "      </button>\n",
              "      \n",
              "  <style>\n",
              "    .colab-df-container {\n",
              "      display:flex;\n",
              "      flex-wrap:wrap;\n",
              "      gap: 12px;\n",
              "    }\n",
              "\n",
              "    .colab-df-convert {\n",
              "      background-color: #E8F0FE;\n",
              "      border: none;\n",
              "      border-radius: 50%;\n",
              "      cursor: pointer;\n",
              "      display: none;\n",
              "      fill: #1967D2;\n",
              "      height: 32px;\n",
              "      padding: 0 0 0 0;\n",
              "      width: 32px;\n",
              "    }\n",
              "\n",
              "    .colab-df-convert:hover {\n",
              "      background-color: #E2EBFA;\n",
              "      box-shadow: 0px 1px 2px rgba(60, 64, 67, 0.3), 0px 1px 3px 1px rgba(60, 64, 67, 0.15);\n",
              "      fill: #174EA6;\n",
              "    }\n",
              "\n",
              "    [theme=dark] .colab-df-convert {\n",
              "      background-color: #3B4455;\n",
              "      fill: #D2E3FC;\n",
              "    }\n",
              "\n",
              "    [theme=dark] .colab-df-convert:hover {\n",
              "      background-color: #434B5C;\n",
              "      box-shadow: 0px 1px 3px 1px rgba(0, 0, 0, 0.15);\n",
              "      filter: drop-shadow(0px 1px 2px rgba(0, 0, 0, 0.3));\n",
              "      fill: #FFFFFF;\n",
              "    }\n",
              "  </style>\n",
              "\n",
              "      <script>\n",
              "        const buttonEl =\n",
              "          document.querySelector('#df-39121d31-1acd-479a-adfb-2a6e9ccafc91 button.colab-df-convert');\n",
              "        buttonEl.style.display =\n",
              "          google.colab.kernel.accessAllowed ? 'block' : 'none';\n",
              "\n",
              "        async function convertToInteractive(key) {\n",
              "          const element = document.querySelector('#df-39121d31-1acd-479a-adfb-2a6e9ccafc91');\n",
              "          const dataTable =\n",
              "            await google.colab.kernel.invokeFunction('convertToInteractive',\n",
              "                                                     [key], {});\n",
              "          if (!dataTable) return;\n",
              "\n",
              "          const docLinkHtml = 'Like what you see? Visit the ' +\n",
              "            '<a target=\"_blank\" href=https://colab.research.google.com/notebooks/data_table.ipynb>data table notebook</a>'\n",
              "            + ' to learn more about interactive tables.';\n",
              "          element.innerHTML = '';\n",
              "          dataTable['output_type'] = 'display_data';\n",
              "          await google.colab.output.renderOutput(dataTable, element);\n",
              "          const docLink = document.createElement('div');\n",
              "          docLink.innerHTML = docLinkHtml;\n",
              "          element.appendChild(docLink);\n",
              "        }\n",
              "      </script>\n",
              "    </div>\n",
              "  </div>\n",
              "  "
            ]
          },
          "metadata": {},
          "execution_count": 21
        }
      ]
    },
    {
      "cell_type": "markdown",
      "source": [
        "> *MinMaxScaler()* is a good choice for normalization in this case because it scales the data to a fixed range of 0 to 1 which is particularly useful for this data because different columns may have vastly different ranges of values. \n",
        ">\n",
        "> For example, the *DEPARTURE_DELAY* column may have values ranging from -60 to 2000, while the *DISTANCE* column may have values ranging from 0 to 5000. By normalizing these columns using MinMaxScaler, they are all scaled to the same range of 0 to 1, which allows for easier comparison and analysis of the data. MinMaxScaler also preserves the shape of the distribution of the original data, which can be important for some analyses. "
      ],
      "metadata": {
        "id": "zuVp-juEe8hc"
      }
    },
    {
      "cell_type": "code",
      "source": [
        "# Normalize the numerical columns\n",
        "scaler = MinMaxScaler()\n",
        "norm_data = pd.DataFrame(scaler.fit_transform(clean_data[num_cols]), columns=num_cols)"
      ],
      "metadata": {
        "id": "EjdJBWr8LNe6"
      },
      "execution_count": 22,
      "outputs": []
    },
    {
      "cell_type": "code",
      "source": [
        "# Prints the top 5 rows of normalized data\n",
        "norm_data.head()"
      ],
      "metadata": {
        "colab": {
          "base_uri": "https://localhost:8080/",
          "height": 270
        },
        "id": "pvYtUs-PhfXg",
        "outputId": "1ca998a7-b81c-4464-d6e7-1ca1cc4c368f"
      },
      "execution_count": 23,
      "outputs": [
        {
          "output_type": "execute_result",
          "data": {
            "text/plain": [
              "   MONTH  FLIGHT_NUMBER  SCHEDULED_DEPARTURE  DEPARTURE_TIME  DEPARTURE_DELAY  \\\n",
              "0    0.0       0.010409             0.001696        0.980825         0.034300   \n",
              "1    0.0       0.250563             0.003817        0.000417         0.035749   \n",
              "2    0.0       0.090031             0.008058        0.007086         0.038647   \n",
              "3    0.0       0.027578             0.008058        0.005836         0.037198   \n",
              "4    0.0       0.014379             0.010178        0.009587         0.039130   \n",
              "\n",
              "   TAXI_OUT  WHEELS_OFF  SCHEDULED_TIME  ELAPSED_TIME  AIR_TIME  DISTANCE  \\\n",
              "0  0.089286    0.005836        0.267143      0.239362  0.237189  0.286147   \n",
              "1  0.049107    0.005419        0.374286      0.352394  0.374817  0.464257   \n",
              "2  0.066964    0.013756        0.382857      0.371011  0.379209  0.457391   \n",
              "3  0.062500    0.012088        0.381429      0.355053  0.367496  0.466680   \n",
              "4  0.044643    0.014173        0.310000      0.267287  0.281113  0.286147   \n",
              "\n",
              "   WHEELS_ON   TAXI_IN  SCHEDULED_ARRIVAL  ARRIVAL_TIME  ARRIVAL_DELAY  \\\n",
              "0   0.167987  0.012146           0.181934      0.169654       0.031584   \n",
              "1   0.306794  0.012146           0.317642      0.308462       0.037901   \n",
              "2   0.333055  0.040486           0.341391      0.337641       0.044704   \n",
              "3   0.311380  0.028340           0.340967      0.314714       0.037901   \n",
              "4   0.105461  0.016194           0.135284      0.107545       0.032070   \n",
              "\n",
              "   DIVERTED  CANCELLED  bin_number  \n",
              "0       0.0        0.0         0.0  \n",
              "1       0.0        0.0         0.0  \n",
              "2       0.0        0.0         0.0  \n",
              "3       0.0        0.0         0.0  \n",
              "4       0.0        0.0         0.0  "
            ],
            "text/html": [
              "\n",
              "  <div id=\"df-119157e9-8ae2-49de-af57-90161577478f\">\n",
              "    <div class=\"colab-df-container\">\n",
              "      <div>\n",
              "<style scoped>\n",
              "    .dataframe tbody tr th:only-of-type {\n",
              "        vertical-align: middle;\n",
              "    }\n",
              "\n",
              "    .dataframe tbody tr th {\n",
              "        vertical-align: top;\n",
              "    }\n",
              "\n",
              "    .dataframe thead th {\n",
              "        text-align: right;\n",
              "    }\n",
              "</style>\n",
              "<table border=\"1\" class=\"dataframe\">\n",
              "  <thead>\n",
              "    <tr style=\"text-align: right;\">\n",
              "      <th></th>\n",
              "      <th>MONTH</th>\n",
              "      <th>FLIGHT_NUMBER</th>\n",
              "      <th>SCHEDULED_DEPARTURE</th>\n",
              "      <th>DEPARTURE_TIME</th>\n",
              "      <th>DEPARTURE_DELAY</th>\n",
              "      <th>TAXI_OUT</th>\n",
              "      <th>WHEELS_OFF</th>\n",
              "      <th>SCHEDULED_TIME</th>\n",
              "      <th>ELAPSED_TIME</th>\n",
              "      <th>AIR_TIME</th>\n",
              "      <th>DISTANCE</th>\n",
              "      <th>WHEELS_ON</th>\n",
              "      <th>TAXI_IN</th>\n",
              "      <th>SCHEDULED_ARRIVAL</th>\n",
              "      <th>ARRIVAL_TIME</th>\n",
              "      <th>ARRIVAL_DELAY</th>\n",
              "      <th>DIVERTED</th>\n",
              "      <th>CANCELLED</th>\n",
              "      <th>bin_number</th>\n",
              "    </tr>\n",
              "  </thead>\n",
              "  <tbody>\n",
              "    <tr>\n",
              "      <th>0</th>\n",
              "      <td>0.0</td>\n",
              "      <td>0.010409</td>\n",
              "      <td>0.001696</td>\n",
              "      <td>0.980825</td>\n",
              "      <td>0.034300</td>\n",
              "      <td>0.089286</td>\n",
              "      <td>0.005836</td>\n",
              "      <td>0.267143</td>\n",
              "      <td>0.239362</td>\n",
              "      <td>0.237189</td>\n",
              "      <td>0.286147</td>\n",
              "      <td>0.167987</td>\n",
              "      <td>0.012146</td>\n",
              "      <td>0.181934</td>\n",
              "      <td>0.169654</td>\n",
              "      <td>0.031584</td>\n",
              "      <td>0.0</td>\n",
              "      <td>0.0</td>\n",
              "      <td>0.0</td>\n",
              "    </tr>\n",
              "    <tr>\n",
              "      <th>1</th>\n",
              "      <td>0.0</td>\n",
              "      <td>0.250563</td>\n",
              "      <td>0.003817</td>\n",
              "      <td>0.000417</td>\n",
              "      <td>0.035749</td>\n",
              "      <td>0.049107</td>\n",
              "      <td>0.005419</td>\n",
              "      <td>0.374286</td>\n",
              "      <td>0.352394</td>\n",
              "      <td>0.374817</td>\n",
              "      <td>0.464257</td>\n",
              "      <td>0.306794</td>\n",
              "      <td>0.012146</td>\n",
              "      <td>0.317642</td>\n",
              "      <td>0.308462</td>\n",
              "      <td>0.037901</td>\n",
              "      <td>0.0</td>\n",
              "      <td>0.0</td>\n",
              "      <td>0.0</td>\n",
              "    </tr>\n",
              "    <tr>\n",
              "      <th>2</th>\n",
              "      <td>0.0</td>\n",
              "      <td>0.090031</td>\n",
              "      <td>0.008058</td>\n",
              "      <td>0.007086</td>\n",
              "      <td>0.038647</td>\n",
              "      <td>0.066964</td>\n",
              "      <td>0.013756</td>\n",
              "      <td>0.382857</td>\n",
              "      <td>0.371011</td>\n",
              "      <td>0.379209</td>\n",
              "      <td>0.457391</td>\n",
              "      <td>0.333055</td>\n",
              "      <td>0.040486</td>\n",
              "      <td>0.341391</td>\n",
              "      <td>0.337641</td>\n",
              "      <td>0.044704</td>\n",
              "      <td>0.0</td>\n",
              "      <td>0.0</td>\n",
              "      <td>0.0</td>\n",
              "    </tr>\n",
              "    <tr>\n",
              "      <th>3</th>\n",
              "      <td>0.0</td>\n",
              "      <td>0.027578</td>\n",
              "      <td>0.008058</td>\n",
              "      <td>0.005836</td>\n",
              "      <td>0.037198</td>\n",
              "      <td>0.062500</td>\n",
              "      <td>0.012088</td>\n",
              "      <td>0.381429</td>\n",
              "      <td>0.355053</td>\n",
              "      <td>0.367496</td>\n",
              "      <td>0.466680</td>\n",
              "      <td>0.311380</td>\n",
              "      <td>0.028340</td>\n",
              "      <td>0.340967</td>\n",
              "      <td>0.314714</td>\n",
              "      <td>0.037901</td>\n",
              "      <td>0.0</td>\n",
              "      <td>0.0</td>\n",
              "      <td>0.0</td>\n",
              "    </tr>\n",
              "    <tr>\n",
              "      <th>4</th>\n",
              "      <td>0.0</td>\n",
              "      <td>0.014379</td>\n",
              "      <td>0.010178</td>\n",
              "      <td>0.009587</td>\n",
              "      <td>0.039130</td>\n",
              "      <td>0.044643</td>\n",
              "      <td>0.014173</td>\n",
              "      <td>0.310000</td>\n",
              "      <td>0.267287</td>\n",
              "      <td>0.281113</td>\n",
              "      <td>0.286147</td>\n",
              "      <td>0.105461</td>\n",
              "      <td>0.016194</td>\n",
              "      <td>0.135284</td>\n",
              "      <td>0.107545</td>\n",
              "      <td>0.032070</td>\n",
              "      <td>0.0</td>\n",
              "      <td>0.0</td>\n",
              "      <td>0.0</td>\n",
              "    </tr>\n",
              "  </tbody>\n",
              "</table>\n",
              "</div>\n",
              "      <button class=\"colab-df-convert\" onclick=\"convertToInteractive('df-119157e9-8ae2-49de-af57-90161577478f')\"\n",
              "              title=\"Convert this dataframe to an interactive table.\"\n",
              "              style=\"display:none;\">\n",
              "        \n",
              "  <svg xmlns=\"http://www.w3.org/2000/svg\" height=\"24px\"viewBox=\"0 0 24 24\"\n",
              "       width=\"24px\">\n",
              "    <path d=\"M0 0h24v24H0V0z\" fill=\"none\"/>\n",
              "    <path d=\"M18.56 5.44l.94 2.06.94-2.06 2.06-.94-2.06-.94-.94-2.06-.94 2.06-2.06.94zm-11 1L8.5 8.5l.94-2.06 2.06-.94-2.06-.94L8.5 2.5l-.94 2.06-2.06.94zm10 10l.94 2.06.94-2.06 2.06-.94-2.06-.94-.94-2.06-.94 2.06-2.06.94z\"/><path d=\"M17.41 7.96l-1.37-1.37c-.4-.4-.92-.59-1.43-.59-.52 0-1.04.2-1.43.59L10.3 9.45l-7.72 7.72c-.78.78-.78 2.05 0 2.83L4 21.41c.39.39.9.59 1.41.59.51 0 1.02-.2 1.41-.59l7.78-7.78 2.81-2.81c.8-.78.8-2.07 0-2.86zM5.41 20L4 18.59l7.72-7.72 1.47 1.35L5.41 20z\"/>\n",
              "  </svg>\n",
              "      </button>\n",
              "      \n",
              "  <style>\n",
              "    .colab-df-container {\n",
              "      display:flex;\n",
              "      flex-wrap:wrap;\n",
              "      gap: 12px;\n",
              "    }\n",
              "\n",
              "    .colab-df-convert {\n",
              "      background-color: #E8F0FE;\n",
              "      border: none;\n",
              "      border-radius: 50%;\n",
              "      cursor: pointer;\n",
              "      display: none;\n",
              "      fill: #1967D2;\n",
              "      height: 32px;\n",
              "      padding: 0 0 0 0;\n",
              "      width: 32px;\n",
              "    }\n",
              "\n",
              "    .colab-df-convert:hover {\n",
              "      background-color: #E2EBFA;\n",
              "      box-shadow: 0px 1px 2px rgba(60, 64, 67, 0.3), 0px 1px 3px 1px rgba(60, 64, 67, 0.15);\n",
              "      fill: #174EA6;\n",
              "    }\n",
              "\n",
              "    [theme=dark] .colab-df-convert {\n",
              "      background-color: #3B4455;\n",
              "      fill: #D2E3FC;\n",
              "    }\n",
              "\n",
              "    [theme=dark] .colab-df-convert:hover {\n",
              "      background-color: #434B5C;\n",
              "      box-shadow: 0px 1px 3px 1px rgba(0, 0, 0, 0.15);\n",
              "      filter: drop-shadow(0px 1px 2px rgba(0, 0, 0, 0.3));\n",
              "      fill: #FFFFFF;\n",
              "    }\n",
              "  </style>\n",
              "\n",
              "      <script>\n",
              "        const buttonEl =\n",
              "          document.querySelector('#df-119157e9-8ae2-49de-af57-90161577478f button.colab-df-convert');\n",
              "        buttonEl.style.display =\n",
              "          google.colab.kernel.accessAllowed ? 'block' : 'none';\n",
              "\n",
              "        async function convertToInteractive(key) {\n",
              "          const element = document.querySelector('#df-119157e9-8ae2-49de-af57-90161577478f');\n",
              "          const dataTable =\n",
              "            await google.colab.kernel.invokeFunction('convertToInteractive',\n",
              "                                                     [key], {});\n",
              "          if (!dataTable) return;\n",
              "\n",
              "          const docLinkHtml = 'Like what you see? Visit the ' +\n",
              "            '<a target=\"_blank\" href=https://colab.research.google.com/notebooks/data_table.ipynb>data table notebook</a>'\n",
              "            + ' to learn more about interactive tables.';\n",
              "          element.innerHTML = '';\n",
              "          dataTable['output_type'] = 'display_data';\n",
              "          await google.colab.output.renderOutput(dataTable, element);\n",
              "          const docLink = document.createElement('div');\n",
              "          docLink.innerHTML = docLinkHtml;\n",
              "          element.appendChild(docLink);\n",
              "        }\n",
              "      </script>\n",
              "    </div>\n",
              "  </div>\n",
              "  "
            ]
          },
          "metadata": {},
          "execution_count": 23
        }
      ]
    },
    {
      "cell_type": "markdown",
      "source": [
        "### d) Any other techniques which are required for your dataset such as adding data head"
      ],
      "metadata": {
        "id": "bMc0ZQrP95NI"
      }
    },
    {
      "cell_type": "markdown",
      "source": [
        "> Converting the numerical representation of months in the *'MONTH'* column of the *clean_data* dataframe to their corresponding month names which will be useful for performing data cube aggregration on column *'MONTH'*"
      ],
      "metadata": {
        "id": "DdyrkijGiMcN"
      }
    },
    {
      "cell_type": "code",
      "source": [
        "import datetime\n",
        "\n",
        "# define a dictionary to map integer month values to month names\n",
        "month_dict = {1: 'January', 2: 'February', 3: 'March', 4: 'April', 5: 'May', 6: 'June', 7: 'July', 8: 'August', 9: 'September', 10: 'October', 11: 'November', 12: 'December'}\n",
        "\n",
        "# convert the month column to datetime format\n",
        "clean_data['MONTH'] = pd.to_datetime(clean_data['MONTH'], format='%m')\n",
        "\n",
        "# map the integer month values to month names using the dictionary\n",
        "clean_data['MONTH'] = clean_data['MONTH'].dt.month.map(month_dict)\n"
      ],
      "metadata": {
        "id": "8bUaafXee-JA"
      },
      "execution_count": 24,
      "outputs": []
    },
    {
      "cell_type": "code",
      "source": [
        "clean_data['MONTH'].unique()"
      ],
      "metadata": {
        "colab": {
          "base_uri": "https://localhost:8080/"
        },
        "id": "FyVOTcYzj-js",
        "outputId": "839f1ca1-6898-4f34-dfba-8b7561439ee9"
      },
      "execution_count": 25,
      "outputs": [
        {
          "output_type": "execute_result",
          "data": {
            "text/plain": [
              "array(['January', 'February', 'March', 'April', 'May', 'June', 'July',\n",
              "       'August', 'September', 'October', 'November', 'December'],\n",
              "      dtype=object)"
            ]
          },
          "metadata": {},
          "execution_count": 25
        }
      ]
    },
    {
      "cell_type": "markdown",
      "source": [
        "> We will group the *clean_data* dataframe by *month* and calculate the mean departure delay for each month. The resulting output agg_data represents the mean departure delay for every month. It shows that highest amount of delays occurred in the months of June, July, December and January which comes under holiday periods."
      ],
      "metadata": {
        "id": "rTs5rIT6jk7m"
      }
    },
    {
      "cell_type": "code",
      "source": [
        "# Group the data by Month and calculate the mean of the Delayed flights for each month\n",
        "agg_data = clean_data.groupby('MONTH')['DEPARTURE_DELAY'].mean()\n",
        "\n",
        "# Display the aggregated data\n",
        "agg_data"
      ],
      "metadata": {
        "id": "OT_8cW1Agou8",
        "colab": {
          "base_uri": "https://localhost:8080/"
        },
        "outputId": "25a646d6-831e-4b76-d87f-d099589e615d"
      },
      "execution_count": 26,
      "outputs": [
        {
          "output_type": "execute_result",
          "data": {
            "text/plain": [
              "MONTH\n",
              "April        3.969837\n",
              "August       5.355843\n",
              "December     7.006570\n",
              "February     6.747354\n",
              "January      5.179913\n",
              "July         6.310167\n",
              "June         8.327292\n",
              "March        5.403265\n",
              "May          5.096696\n",
              "November     3.604090\n",
              "October      2.209347\n",
              "September    1.892759\n",
              "Name: DEPARTURE_DELAY, dtype: float64"
            ]
          },
          "metadata": {},
          "execution_count": 26
        }
      ]
    },
    {
      "cell_type": "markdown",
      "source": [
        "> We will do the same on *'DEPARTURE_DELAY', 'ARRIVAL_DELAY'* columns for every *Airline*. The resulting output aggregated_data is a dataframe with airlines as index and the mean departure and arrival delays as columns.\n",
        "> This aggregrated data gives an idea about which airlines have highest average delays."
      ],
      "metadata": {
        "id": "K8khtx9Tj5hd"
      }
    },
    {
      "cell_type": "code",
      "source": [
        "# Calculate the mean of DEPARTURE_DELAY and ARRIVAL_DELAY columns for each group\n",
        "aggregated_data = clean_data.groupby('AIRLINE')[['DEPARTURE_DELAY', 'ARRIVAL_DELAY']].mean()\n",
        "\n",
        "# Print the aggregated data\n",
        "aggregated_data"
      ],
      "metadata": {
        "id": "JwiA9iaZgpC2",
        "colab": {
          "base_uri": "https://localhost:8080/",
          "height": 520
        },
        "outputId": "c9125f20-f452-49e1-f5e3-4e742fcdca81"
      },
      "execution_count": 27,
      "outputs": [
        {
          "output_type": "execute_result",
          "data": {
            "text/plain": [
              "         DEPARTURE_DELAY  ARRIVAL_DELAY\n",
              "AIRLINE                                \n",
              "AA              4.688340      -0.693426\n",
              "AS             -0.643949      -3.338727\n",
              "B6              6.123719       1.213844\n",
              "DL              4.346116      -2.841747\n",
              "EV              3.946506       1.880295\n",
              "F9              7.531629       6.666883\n",
              "HA             -0.664718       0.884801\n",
              "MQ              4.937648       1.079231\n",
              "NK              8.998552       7.512383\n",
              "OO              3.228268       1.383314\n",
              "UA              8.996808       0.139782\n",
              "US              2.623808       0.249262\n",
              "VX              4.740198       0.393569\n",
              "WN              6.467168       0.233414"
            ],
            "text/html": [
              "\n",
              "  <div id=\"df-409a95bf-626e-4a56-add1-7146363709da\">\n",
              "    <div class=\"colab-df-container\">\n",
              "      <div>\n",
              "<style scoped>\n",
              "    .dataframe tbody tr th:only-of-type {\n",
              "        vertical-align: middle;\n",
              "    }\n",
              "\n",
              "    .dataframe tbody tr th {\n",
              "        vertical-align: top;\n",
              "    }\n",
              "\n",
              "    .dataframe thead th {\n",
              "        text-align: right;\n",
              "    }\n",
              "</style>\n",
              "<table border=\"1\" class=\"dataframe\">\n",
              "  <thead>\n",
              "    <tr style=\"text-align: right;\">\n",
              "      <th></th>\n",
              "      <th>DEPARTURE_DELAY</th>\n",
              "      <th>ARRIVAL_DELAY</th>\n",
              "    </tr>\n",
              "    <tr>\n",
              "      <th>AIRLINE</th>\n",
              "      <th></th>\n",
              "      <th></th>\n",
              "    </tr>\n",
              "  </thead>\n",
              "  <tbody>\n",
              "    <tr>\n",
              "      <th>AA</th>\n",
              "      <td>4.688340</td>\n",
              "      <td>-0.693426</td>\n",
              "    </tr>\n",
              "    <tr>\n",
              "      <th>AS</th>\n",
              "      <td>-0.643949</td>\n",
              "      <td>-3.338727</td>\n",
              "    </tr>\n",
              "    <tr>\n",
              "      <th>B6</th>\n",
              "      <td>6.123719</td>\n",
              "      <td>1.213844</td>\n",
              "    </tr>\n",
              "    <tr>\n",
              "      <th>DL</th>\n",
              "      <td>4.346116</td>\n",
              "      <td>-2.841747</td>\n",
              "    </tr>\n",
              "    <tr>\n",
              "      <th>EV</th>\n",
              "      <td>3.946506</td>\n",
              "      <td>1.880295</td>\n",
              "    </tr>\n",
              "    <tr>\n",
              "      <th>F9</th>\n",
              "      <td>7.531629</td>\n",
              "      <td>6.666883</td>\n",
              "    </tr>\n",
              "    <tr>\n",
              "      <th>HA</th>\n",
              "      <td>-0.664718</td>\n",
              "      <td>0.884801</td>\n",
              "    </tr>\n",
              "    <tr>\n",
              "      <th>MQ</th>\n",
              "      <td>4.937648</td>\n",
              "      <td>1.079231</td>\n",
              "    </tr>\n",
              "    <tr>\n",
              "      <th>NK</th>\n",
              "      <td>8.998552</td>\n",
              "      <td>7.512383</td>\n",
              "    </tr>\n",
              "    <tr>\n",
              "      <th>OO</th>\n",
              "      <td>3.228268</td>\n",
              "      <td>1.383314</td>\n",
              "    </tr>\n",
              "    <tr>\n",
              "      <th>UA</th>\n",
              "      <td>8.996808</td>\n",
              "      <td>0.139782</td>\n",
              "    </tr>\n",
              "    <tr>\n",
              "      <th>US</th>\n",
              "      <td>2.623808</td>\n",
              "      <td>0.249262</td>\n",
              "    </tr>\n",
              "    <tr>\n",
              "      <th>VX</th>\n",
              "      <td>4.740198</td>\n",
              "      <td>0.393569</td>\n",
              "    </tr>\n",
              "    <tr>\n",
              "      <th>WN</th>\n",
              "      <td>6.467168</td>\n",
              "      <td>0.233414</td>\n",
              "    </tr>\n",
              "  </tbody>\n",
              "</table>\n",
              "</div>\n",
              "      <button class=\"colab-df-convert\" onclick=\"convertToInteractive('df-409a95bf-626e-4a56-add1-7146363709da')\"\n",
              "              title=\"Convert this dataframe to an interactive table.\"\n",
              "              style=\"display:none;\">\n",
              "        \n",
              "  <svg xmlns=\"http://www.w3.org/2000/svg\" height=\"24px\"viewBox=\"0 0 24 24\"\n",
              "       width=\"24px\">\n",
              "    <path d=\"M0 0h24v24H0V0z\" fill=\"none\"/>\n",
              "    <path d=\"M18.56 5.44l.94 2.06.94-2.06 2.06-.94-2.06-.94-.94-2.06-.94 2.06-2.06.94zm-11 1L8.5 8.5l.94-2.06 2.06-.94-2.06-.94L8.5 2.5l-.94 2.06-2.06.94zm10 10l.94 2.06.94-2.06 2.06-.94-2.06-.94-.94-2.06-.94 2.06-2.06.94z\"/><path d=\"M17.41 7.96l-1.37-1.37c-.4-.4-.92-.59-1.43-.59-.52 0-1.04.2-1.43.59L10.3 9.45l-7.72 7.72c-.78.78-.78 2.05 0 2.83L4 21.41c.39.39.9.59 1.41.59.51 0 1.02-.2 1.41-.59l7.78-7.78 2.81-2.81c.8-.78.8-2.07 0-2.86zM5.41 20L4 18.59l7.72-7.72 1.47 1.35L5.41 20z\"/>\n",
              "  </svg>\n",
              "      </button>\n",
              "      \n",
              "  <style>\n",
              "    .colab-df-container {\n",
              "      display:flex;\n",
              "      flex-wrap:wrap;\n",
              "      gap: 12px;\n",
              "    }\n",
              "\n",
              "    .colab-df-convert {\n",
              "      background-color: #E8F0FE;\n",
              "      border: none;\n",
              "      border-radius: 50%;\n",
              "      cursor: pointer;\n",
              "      display: none;\n",
              "      fill: #1967D2;\n",
              "      height: 32px;\n",
              "      padding: 0 0 0 0;\n",
              "      width: 32px;\n",
              "    }\n",
              "\n",
              "    .colab-df-convert:hover {\n",
              "      background-color: #E2EBFA;\n",
              "      box-shadow: 0px 1px 2px rgba(60, 64, 67, 0.3), 0px 1px 3px 1px rgba(60, 64, 67, 0.15);\n",
              "      fill: #174EA6;\n",
              "    }\n",
              "\n",
              "    [theme=dark] .colab-df-convert {\n",
              "      background-color: #3B4455;\n",
              "      fill: #D2E3FC;\n",
              "    }\n",
              "\n",
              "    [theme=dark] .colab-df-convert:hover {\n",
              "      background-color: #434B5C;\n",
              "      box-shadow: 0px 1px 3px 1px rgba(0, 0, 0, 0.15);\n",
              "      filter: drop-shadow(0px 1px 2px rgba(0, 0, 0, 0.3));\n",
              "      fill: #FFFFFF;\n",
              "    }\n",
              "  </style>\n",
              "\n",
              "      <script>\n",
              "        const buttonEl =\n",
              "          document.querySelector('#df-409a95bf-626e-4a56-add1-7146363709da button.colab-df-convert');\n",
              "        buttonEl.style.display =\n",
              "          google.colab.kernel.accessAllowed ? 'block' : 'none';\n",
              "\n",
              "        async function convertToInteractive(key) {\n",
              "          const element = document.querySelector('#df-409a95bf-626e-4a56-add1-7146363709da');\n",
              "          const dataTable =\n",
              "            await google.colab.kernel.invokeFunction('convertToInteractive',\n",
              "                                                     [key], {});\n",
              "          if (!dataTable) return;\n",
              "\n",
              "          const docLinkHtml = 'Like what you see? Visit the ' +\n",
              "            '<a target=\"_blank\" href=https://colab.research.google.com/notebooks/data_table.ipynb>data table notebook</a>'\n",
              "            + ' to learn more about interactive tables.';\n",
              "          element.innerHTML = '';\n",
              "          dataTable['output_type'] = 'display_data';\n",
              "          await google.colab.output.renderOutput(dataTable, element);\n",
              "          const docLink = document.createElement('div');\n",
              "          docLink.innerHTML = docLinkHtml;\n",
              "          element.appendChild(docLink);\n",
              "        }\n",
              "      </script>\n",
              "    </div>\n",
              "  </div>\n",
              "  "
            ]
          },
          "metadata": {},
          "execution_count": 27
        }
      ]
    },
    {
      "cell_type": "markdown",
      "source": [
        "> PCA is a technique used to reduce the dimensionality of a dataset by transforming it into a smaller number of new variables (principal components) that capture the most important information in the original data.\n",
        "\n",
        "> Performing PCA on the standardized data is a good approach as it can help in reducing the dimensionality of the dataset while retaining the most important information. This can make it easier to analyze the data and identify patterns or trends that may be difficult to see in high-dimensional data. \n",
        "> \n",
        "> Additionally, PCA can also help in identifying any underlying structures or relationships among the variables in the dataset."
      ],
      "metadata": {
        "id": "TR0nbD3AoTkE"
      }
    },
    {
      "cell_type": "code",
      "source": [
        "from sklearn.decomposition import PCA\n",
        "\n",
        "# Perform PCA on the standardized numerical data\n",
        "pca = PCA()\n",
        "pca.fit(std_data)\n",
        "\n",
        "# Get the transformed data\n",
        "pca_data = pca.transform(std_data)\n",
        "\n",
        "# Print the explained variance ratio\n",
        "print(\"Explained Variance Ratio:\", pca.explained_variance_ratio_)"
      ],
      "metadata": {
        "colab": {
          "base_uri": "https://localhost:8080/"
        },
        "id": "VBEx0lstmBXn",
        "outputId": "4b7e51dc-9974-4efb-d6f6-de458c8f74d9"
      },
      "execution_count": 28,
      "outputs": [
        {
          "output_type": "stream",
          "name": "stdout",
          "text": [
            "Explained Variance Ratio: [2.96623265e-01 2.42520101e-01 1.64822888e-01 6.27918075e-02\n",
            " 5.89427639e-02 5.84630009e-02 4.79801541e-02 4.48825206e-02\n",
            " 7.29082988e-03 6.58378715e-03 2.82401432e-03 2.53669766e-03\n",
            " 1.69144271e-03 1.03811157e-03 1.00861545e-03 4.10685852e-12\n",
            " 1.28464423e-31 1.13566664e-70 0.00000000e+00]\n"
          ]
        }
      ]
    },
    {
      "cell_type": "code",
      "source": [
        "pca_data"
      ],
      "metadata": {
        "colab": {
          "base_uri": "https://localhost:8080/"
        },
        "id": "9leavkZHqFHK",
        "outputId": "38f88018-c394-47cd-ea87-6e1395473086"
      },
      "execution_count": 29,
      "outputs": [
        {
          "output_type": "execute_result",
          "data": {
            "text/plain": [
              "array([[-3.84185738e+00,  1.95301077e+00, -1.64084755e-01, ...,\n",
              "         3.34727849e-15, -3.97498775e-30,  0.00000000e+00],\n",
              "       [-4.95327199e+00,  4.14148707e+00, -1.14447929e-01, ...,\n",
              "        -3.39959063e-15,  2.52871301e-31,  0.00000000e+00],\n",
              "       [-4.71494594e+00,  4.55968309e+00,  2.76918130e-01, ...,\n",
              "        -2.85481206e-15,  5.90898805e-32,  0.00000000e+00],\n",
              "       ...,\n",
              "       [-1.81956791e+00,  2.29854527e+00, -1.93519723e-01, ...,\n",
              "         2.73898995e-15,  2.35809582e-30,  0.00000000e+00],\n",
              "       [-2.09870520e+00,  8.13992530e-01, -2.03328138e-01, ...,\n",
              "         4.44462638e-15,  2.06231262e-30,  0.00000000e+00],\n",
              "       [-3.65507350e+00,  2.29766957e+00,  4.20804820e-01, ...,\n",
              "        -1.14701573e-16,  5.86574016e-30,  0.00000000e+00]])"
            ]
          },
          "metadata": {},
          "execution_count": 29
        }
      ]
    }
  ]
}